{
 "cells": [
  {
   "cell_type": "code",
   "execution_count": 2,
   "source": [
    "import numpy as np\r\n",
    "import matplotlib.pyplot as plt\r\n",
    "import pandas as pd\r\n",
    "\r\n",
    "df = pd.read_csv('./pima.csv', header=None)\r\n",
    "X = df.iloc[:,:-1].values\r\n",
    "y = df.iloc[:,-1].values\r\n",
    "\r\n",
    "df.head()"
   ],
   "outputs": [
    {
     "output_type": "execute_result",
     "data": {
      "text/html": [
       "<div>\n",
       "<style scoped>\n",
       "    .dataframe tbody tr th:only-of-type {\n",
       "        vertical-align: middle;\n",
       "    }\n",
       "\n",
       "    .dataframe tbody tr th {\n",
       "        vertical-align: top;\n",
       "    }\n",
       "\n",
       "    .dataframe thead th {\n",
       "        text-align: right;\n",
       "    }\n",
       "</style>\n",
       "<table border=\"1\" class=\"dataframe\">\n",
       "  <thead>\n",
       "    <tr style=\"text-align: right;\">\n",
       "      <th></th>\n",
       "      <th>0</th>\n",
       "      <th>1</th>\n",
       "      <th>2</th>\n",
       "      <th>3</th>\n",
       "      <th>4</th>\n",
       "      <th>5</th>\n",
       "      <th>6</th>\n",
       "      <th>7</th>\n",
       "      <th>8</th>\n",
       "    </tr>\n",
       "  </thead>\n",
       "  <tbody>\n",
       "    <tr>\n",
       "      <th>0</th>\n",
       "      <td>6</td>\n",
       "      <td>148</td>\n",
       "      <td>72</td>\n",
       "      <td>35</td>\n",
       "      <td>0</td>\n",
       "      <td>33.6</td>\n",
       "      <td>0.627</td>\n",
       "      <td>50</td>\n",
       "      <td>1</td>\n",
       "    </tr>\n",
       "    <tr>\n",
       "      <th>1</th>\n",
       "      <td>1</td>\n",
       "      <td>85</td>\n",
       "      <td>66</td>\n",
       "      <td>29</td>\n",
       "      <td>0</td>\n",
       "      <td>26.6</td>\n",
       "      <td>0.351</td>\n",
       "      <td>31</td>\n",
       "      <td>0</td>\n",
       "    </tr>\n",
       "    <tr>\n",
       "      <th>2</th>\n",
       "      <td>8</td>\n",
       "      <td>183</td>\n",
       "      <td>64</td>\n",
       "      <td>0</td>\n",
       "      <td>0</td>\n",
       "      <td>23.3</td>\n",
       "      <td>0.672</td>\n",
       "      <td>32</td>\n",
       "      <td>1</td>\n",
       "    </tr>\n",
       "    <tr>\n",
       "      <th>3</th>\n",
       "      <td>1</td>\n",
       "      <td>89</td>\n",
       "      <td>66</td>\n",
       "      <td>23</td>\n",
       "      <td>94</td>\n",
       "      <td>28.1</td>\n",
       "      <td>0.167</td>\n",
       "      <td>21</td>\n",
       "      <td>0</td>\n",
       "    </tr>\n",
       "    <tr>\n",
       "      <th>4</th>\n",
       "      <td>0</td>\n",
       "      <td>137</td>\n",
       "      <td>40</td>\n",
       "      <td>35</td>\n",
       "      <td>168</td>\n",
       "      <td>43.1</td>\n",
       "      <td>2.288</td>\n",
       "      <td>33</td>\n",
       "      <td>1</td>\n",
       "    </tr>\n",
       "  </tbody>\n",
       "</table>\n",
       "</div>"
      ],
      "text/plain": [
       "   0    1   2   3    4     5      6   7  8\n",
       "0  6  148  72  35    0  33.6  0.627  50  1\n",
       "1  1   85  66  29    0  26.6  0.351  31  0\n",
       "2  8  183  64   0    0  23.3  0.672  32  1\n",
       "3  1   89  66  23   94  28.1  0.167  21  0\n",
       "4  0  137  40  35  168  43.1  2.288  33  1"
      ]
     },
     "metadata": {},
     "execution_count": 2
    }
   ],
   "metadata": {}
  },
  {
   "cell_type": "code",
   "execution_count": 22,
   "source": [
    "pos, neg = (y==1).reshape(768,1) , (y==0).reshape(768, 1)\r\n",
    "plt.scatter(X[pos[:,0],0],X[pos[:,0],1],c=\"r\",marker=\"+\")\r\n",
    "plt.scatter(X[neg[:,0],0],X[neg[:,0],1],marker=\"o\",s=10)"
   ],
   "outputs": [
    {
     "output_type": "execute_result",
     "data": {
      "text/plain": [
       "<matplotlib.collections.PathCollection at 0x188b2f09b20>"
      ]
     },
     "metadata": {},
     "execution_count": 22
    },
    {
     "output_type": "display_data",
     "data": {
      "image/png": "[encoded data removed]",
      "text/plain": [
       "<Figure size 432x288 with 1 Axes>"
      ]
     },
     "metadata": {
      "needs_background": "light"
     }
    }
   ],
   "metadata": {}
  },
  {
   "cell_type": "code",
   "execution_count": 23,
   "source": [
    "from sklearn.model_selection import train_test_split\r\n",
    "\r\n",
    "X_sk_train, X_sk_test, y_sk_train, y_sk_test = train_test_split(\r\n",
    "    X, y, test_size=0.3, random_state=1, stratify=y)\r\n",
    "\r\n",
    "print('X-sk-train size', X_sk_train.size)\r\n",
    "print('X-sk-test size', X_sk_test.size)\r\n",
    "print('y-sk-train size', y_sk_train.size)\r\n",
    "print('y-sk-test size', y_sk_test.size)"
   ],
   "outputs": [
    {
     "output_type": "stream",
     "name": "stdout",
     "text": [
      "X-sk-train size 4296\n",
      "X-sk-test size 1848\n",
      "y-sk-train size 537\n",
      "y-sk-test size 231\n"
     ]
    }
   ],
   "metadata": {}
  },
  {
   "cell_type": "code",
   "execution_count": 24,
   "source": [
    "print('Labels counts in y:', np.bincount(y))\r\n",
    "print('Labels counts in y_sk_train:', np.bincount(y_sk_train))\r\n",
    "print('Labels counts in y_sk_test:', np.bincount(y_sk_test))"
   ],
   "outputs": [
    {
     "output_type": "stream",
     "name": "stdout",
     "text": [
      "Labels counts in y: [500 268]\n",
      "Labels counts in y_sk_train: [350 187]\n",
      "Labels counts in y_sk_test: [150  81]\n"
     ]
    }
   ],
   "metadata": {}
  },
  {
   "cell_type": "code",
   "execution_count": 25,
   "source": [
    "from sklearn.preprocessing import StandardScaler\r\n",
    "\r\n",
    "sc = StandardScaler()\r\n",
    "sc.fit(X_sk_train)\r\n",
    "X_sk_train_std = sc.transform(X_sk_train)\r\n",
    "X_sk_test_std = sc.transform(X_sk_test)"
   ],
   "outputs": [],
   "metadata": {}
  },
  {
   "cell_type": "code",
   "execution_count": 26,
   "source": [
    "from sklearn.linear_model import LogisticRegression\r\n",
    "\r\n",
    "lr = LogisticRegression()\r\n",
    "model = lr.fit(X_sk_train_std, y_sk_train)\r\n",
    "alpha = model.intercept_\r\n",
    "betas = model.coef_\r\n",
    "print(f'alpha = {model.intercept_}')\r\n",
    "print(f'betas = {model.coef_}')"
   ],
   "outputs": [
    {
     "output_type": "stream",
     "name": "stdout",
     "text": [
      "alpha = [-0.88616415]\n",
      "betas = [[ 0.49618934  1.04833091 -0.29150238 -0.0220156   0.01579886  0.69694845\n",
      "   0.35172734  0.19811429]]\n"
     ]
    }
   ],
   "metadata": {}
  },
  {
   "cell_type": "code",
   "execution_count": 27,
   "source": [
    "y_sk_pred = lr.predict(X_sk_test_std)\r\n",
    "print('Misclassified samples: %d' % (y_sk_test != y_sk_pred).sum())"
   ],
   "outputs": [
    {
     "output_type": "stream",
     "name": "stdout",
     "text": [
      "Misclassified samples: 55\n"
     ]
    }
   ],
   "metadata": {}
  },
  {
   "cell_type": "code",
   "execution_count": 28,
   "source": [
    "from sklearn import metrics\r\n",
    "cm = metrics.confusion_matrix(y_sk_test, y_sk_pred)\r\n",
    "print(cm)"
   ],
   "outputs": [
    {
     "output_type": "stream",
     "name": "stdout",
     "text": [
      "[[133  17]\n",
      " [ 38  43]]\n"
     ]
    }
   ],
   "metadata": {}
  },
  {
   "cell_type": "code",
   "execution_count": 29,
   "source": [
    "from sklearn.metrics import accuracy_score\r\n",
    "\r\n",
    "print('Accuracy: %.2f' % accuracy_score(y_sk_test, y_sk_pred))"
   ],
   "outputs": [
    {
     "output_type": "stream",
     "name": "stdout",
     "text": [
      "Accuracy: 0.76\n"
     ]
    }
   ],
   "metadata": {}
  },
  {
   "cell_type": "code",
   "execution_count": 30,
   "source": [
    "from sklearn.metrics import classification_report \r\n",
    "print(classification_report(y_sk_test, y_sk_pred))"
   ],
   "outputs": [
    {
     "output_type": "stream",
     "name": "stdout",
     "text": [
      "              precision    recall  f1-score   support\n",
      "\n",
      "           0       0.78      0.89      0.83       150\n",
      "           1       0.72      0.53      0.61        81\n",
      "\n",
      "    accuracy                           0.76       231\n",
      "   macro avg       0.75      0.71      0.72       231\n",
      "weighted avg       0.76      0.76      0.75       231\n",
      "\n"
     ]
    }
   ],
   "metadata": {}
  },
  {
   "cell_type": "code",
   "execution_count": 31,
   "source": [
    "print('Accuracy: %.2f' % lr.score(X_sk_test_std, y_sk_test))"
   ],
   "outputs": [
    {
     "output_type": "stream",
     "name": "stdout",
     "text": [
      "Accuracy: 0.76\n"
     ]
    }
   ],
   "metadata": {}
  },
  {
   "cell_type": "code",
   "execution_count": 33,
   "source": [
    "def sigmoid(z):\r\n",
    "    \"\"\"\r\n",
    "    return the sigmoid of z\r\n",
    "    \"\"\"\r\n",
    "    \r\n",
    "    return 1/ (1 + np.exp(-z))\r\n",
    "\r\n",
    "# testing the sigmoid function\r\n",
    "sigmoid(0)"
   ],
   "outputs": [
    {
     "output_type": "execute_result",
     "data": {
      "text/plain": [
       "0.5"
      ]
     },
     "metadata": {},
     "execution_count": 33
    }
   ],
   "metadata": {}
  },
  {
   "cell_type": "code",
   "execution_count": 37,
   "source": [
    "def costFunction(theta, X, y):\r\n",
    "    \"\"\"\r\n",
    "    Takes in numpy array theta, x and y and return the logistic regression cost function and gradient\r\n",
    "    \"\"\"\r\n",
    "    \r\n",
    "    m=len(y)\r\n",
    "    \r\n",
    "    predictions = sigmoid(np.dot(X,theta))\r\n",
    "    error = (-y * np.log(predictions)) - ((1-y)*np.log(1-predictions))\r\n",
    "\r\n",
    "    cost = 1/m * sum(error)\r\n",
    "    \r\n",
    "    grad = 1/m * np.dot(X.transpose(),(predictions - y))\r\n",
    "    \r\n",
    "    return cost[0] , grad"
   ],
   "outputs": [],
   "metadata": {}
  },
  {
   "cell_type": "code",
   "execution_count": 36,
   "source": [
    "\r\n",
    "def featureNormalization(X):\r\n",
    "    \"\"\"\r\n",
    "    Take in numpy array of X values and return normalize X values,\r\n",
    "    the mean and standard deviation of each feature\r\n",
    "    \"\"\"\r\n",
    "    mean=np.mean(X,axis=0)\r\n",
    "    std=np.std(X,axis=0)\r\n",
    "    \r\n",
    "    X_norm = (X - mean)/std\r\n",
    "    \r\n",
    "    return X_norm , mean , std"
   ],
   "outputs": [],
   "metadata": {}
  },
  {
   "cell_type": "code",
   "execution_count": 38,
   "source": [
    "m , n = X.shape[0], X.shape[1]\r\n",
    "X, X_mean, X_std = featureNormalization(X)\r\n",
    "X= np.append(np.ones((m,1)),X,axis=1)\r\n",
    "y=y.reshape(m,1)\r\n",
    "initial_theta = np.zeros((n+1,1))\r\n",
    "cost, grad= costFunction(initial_theta,X,y)\r\n",
    "print(\"Cost of initial theta is\",cost)\r\n",
    "print(\"Gradient at initial theta (zeros):\",grad)"
   ],
   "outputs": [
    {
     "output_type": "stream",
     "name": "stdout",
     "text": [
      "Cost of initial theta is 0.6931471805599447\n",
      "Gradient at initial theta (zeros): [[ 0.15104167]\n",
      " [-0.1057657 ]\n",
      " [-0.22239171]\n",
      " [-0.03101423]\n",
      " [-0.03562996]\n",
      " [-0.06222448]\n",
      " [-0.13951021]\n",
      " [-0.08286117]\n",
      " [-0.11361018]]\n"
     ]
    }
   ],
   "metadata": {}
  },
  {
   "cell_type": "code",
   "execution_count": 39,
   "source": [
    "def gradientDescent(X,y,theta,alpha,num_iters):\r\n",
    "    \"\"\"\r\n",
    "    Take in numpy array X, y and theta and update theta by taking num_iters gradient steps\r\n",
    "    with learning rate of alpha\r\n",
    "    \r\n",
    "    return theta and the list of the cost of theta during each iteration\r\n",
    "    \"\"\"\r\n",
    "    \r\n",
    "    m=len(y)\r\n",
    "    J_history =[]\r\n",
    "    \r\n",
    "    for i in range(num_iters):\r\n",
    "        cost, grad = costFunction(theta,X,y)\r\n",
    "        theta = theta - (alpha * grad)\r\n",
    "        J_history.append(cost)\r\n",
    "    \r\n",
    "    return theta , J_history"
   ],
   "outputs": [],
   "metadata": {}
  },
  {
   "cell_type": "code",
   "execution_count": 40,
   "source": [
    "theta , J_history = gradientDescent(X,y,initial_theta,1,400)\r\n",
    "print(\"Theta optimized by gradient descent:\",theta)\r\n",
    "print(\"The cost of the optimized theta:\",J_history[-1])"
   ],
   "outputs": [
    {
     "output_type": "stream",
     "name": "stdout",
     "text": [
      "Theta optimized by gradient descent: [[-0.87110175]\n",
      " [ 0.41480205]\n",
      " [ 1.12354383]\n",
      " [-0.25717844]\n",
      " [ 0.00986742]\n",
      " [-0.13724672]\n",
      " [ 0.70675625]\n",
      " [ 0.31296113]\n",
      " [ 0.17474906]]\n",
      "The cost of the optimized theta: 0.47099308448839083\n"
     ]
    }
   ],
   "metadata": {}
  },
  {
   "cell_type": "code",
   "execution_count": 41,
   "source": [
    "plt.plot(J_history)\r\n",
    "plt.xlabel(\"Iteration\")\r\n",
    "plt.ylabel(\"$J(\\Theta)$\")\r\n",
    "plt.title(\"Cost function using Gradient Descent\")"
   ],
   "outputs": [
    {
     "output_type": "execute_result",
     "data": {
      "text/plain": [
       "Text(0.5, 1.0, 'Cost function using Gradient Descent')"
      ]
     },
     "metadata": {},
     "execution_count": 41
    },
    {
     "output_type": "display_data",
     "data": {
      "image/png": "[encoded data removed]",
      "text/plain": [
       "<Figure size 432x288 with 1 Axes>"
      ]
     },
     "metadata": {
      "needs_background": "light"
     }
    }
   ],
   "metadata": {}
  },
  {
   "cell_type": "code",
   "execution_count": 42,
   "source": [
    "plt.scatter(X[pos[:,0],1],X[pos[:,0],2],c=\"r\",marker=\"+\")\r\n",
    "plt.scatter(X[neg[:,0],1],X[neg[:,0],2],c=\"b\",marker=\"x\")\r\n",
    "x_value= np.array([np.min(X[:,1]),np.max(X[:,1])])\r\n",
    "y_value=-(theta[0] +theta[1]*x_value)/theta[2]\r\n",
    "y_sk_value = -(model.intercept_+model.coef_[0,0]*x_value)/model.coef_[0,1]\r\n",
    "plt.plot(x_value,y_value, \"g\")\r\n",
    "plt.plot(x_value,y_sk_value, \"r\")\r\n",
    "plt.xlabel(\"Exam 1 score\")\r\n",
    "plt.ylabel(\"Exam 2 score\")\r\n",
    "plt.legend(loc=0)"
   ],
   "outputs": [
    {
     "output_type": "stream",
     "name": "stderr",
     "text": [
      "No handles with labels found to put in legend.\n"
     ]
    },
    {
     "output_type": "execute_result",
     "data": {
      "text/plain": [
       "<matplotlib.legend.Legend at 0x188b5551dc0>"
      ]
     },
     "metadata": {},
     "execution_count": 42
    },
    {
     "output_type": "display_data",
     "data": {
      "image/png": "[encoded data removed]",
      "text/plain": [
       "<Figure size 432x288 with 1 Axes>"
      ]
     },
     "metadata": {
      "needs_background": "light"
     }
    }
   ],
   "metadata": {}
  },
  {
   "cell_type": "code",
   "execution_count": 43,
   "source": [
    "def classifierPredict(theta,X):\r\n",
    "    \"\"\"\r\n",
    "    take in numpy array of theta and X and predict the class \r\n",
    "    \"\"\"\r\n",
    "    predictions = X.dot(theta)\r\n",
    "    \r\n",
    "    return predictions>0"
   ],
   "outputs": [],
   "metadata": {}
  },
  {
   "cell_type": "code",
   "execution_count": 44,
   "source": [
    "p=classifierPredict(theta,X)\r\n",
    "print(\"Train Accuracy:\", sum(p==y)[0],\"%\")"
   ],
   "outputs": [
    {
     "output_type": "stream",
     "name": "stdout",
     "text": [
      "Train Accuracy: 601 %\n"
     ]
    }
   ],
   "metadata": {}
  }
 ],
 "metadata": {
  "orig_nbformat": 4,
  "language_info": {
   "name": "python",
   "version": "3.8.8",
   "mimetype": "text/x-python",
   "codemirror_mode": {
    "name": "ipython",
    "version": 3
   },
   "pygments_lexer": "ipython3",
   "nbconvert_exporter": "python",
   "file_extension": ".py"
  },
  "kernelspec": {
   "name": "python3",
   "display_name": "Python 3.8.8 64-bit ('base': conda)"
  },
  "interpreter": {
   "hash": "ab199526fcd9d8d870a92020da6dad368111517ec7c41313c344a4a7fec6e9b7"
  }
 },
 "nbformat": 4,
 "nbformat_minor": 2
}