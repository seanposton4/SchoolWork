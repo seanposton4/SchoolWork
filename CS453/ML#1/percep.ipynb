{
 "cells": [
  {
   "cell_type": "code",
   "execution_count": 14,
   "source": [
    "%matplotlib inline\r\n",
    "import matplotlib.pyplot as plt\r\n",
    "import numpy as np\r\n",
    "import pandas as pd\r\n",
    "\r\n",
    "import numpy as np\r\n",
    "\r\n",
    "class AdalineGD(object):\r\n",
    "    \"\"\"ADAptive LInear NEuron classifier.\r\n",
    "\r\n",
    "    Parameters\r\n",
    "    ------------\r\n",
    "    eta : float\r\n",
    "      Learning rate (between 0.0 and 1.0)\r\n",
    "    n_iter : int\r\n",
    "      Passes over the training dataset.\r\n",
    "    random_state : int\r\n",
    "      Random number generator seed for random weight\r\n",
    "      initialization.\r\n",
    "\r\n",
    "\r\n",
    "    Attributes\r\n",
    "    -----------\r\n",
    "    w_ : 1d-array\r\n",
    "      Weights after fitting.\r\n",
    "    cost_ : list\r\n",
    "      Sum-of-squares cost function value in each epoch.\r\n",
    "\r\n",
    "    \"\"\"\r\n",
    "    def __init__(self, eta=0.01, n_iter=50, random_state=1):\r\n",
    "        self.eta = eta\r\n",
    "        self.n_iter = n_iter\r\n",
    "        self.random_state = random_state\r\n",
    "\r\n",
    "    def fit(self, X, y):\r\n",
    "        \"\"\" Fit training data.\r\n",
    "\r\n",
    "        Parameters\r\n",
    "        ----------\r\n",
    "        X : {array-like}, shape = [n_samples, n_features]\r\n",
    "          Training vectors, where n_samples is the number of samples and\r\n",
    "          n_features is the number of features.\r\n",
    "        y : array-like, shape = [n_samples]\r\n",
    "          Target values.\r\n",
    "\r\n",
    "        Returns\r\n",
    "        -------\r\n",
    "        self : object\r\n",
    "\r\n",
    "        \"\"\"\r\n",
    "        rgen = np.random.RandomState(self.random_state)\r\n",
    "        self.w_ = rgen.normal(loc=0.0, scale=0.01, size=1 + X.shape[1])\r\n",
    "        self.cost_ = []\r\n",
    "\r\n",
    "        for i in range(self.n_iter):\r\n",
    "            net_input = self.net_input(X)\r\n",
    "            # Please note that the \"activation\" method has no effect\r\n",
    "            # in the code since it is simply an identity function. We\r\n",
    "            # could write `output = self.net_input(X)` directly instead.\r\n",
    "            # The purpose of the activation is more conceptual, i.e.,  \r\n",
    "            # in the case of logistic regression (as we will see later), \r\n",
    "            # we could change it to\r\n",
    "            # a sigmoid function to implement a logistic regression classifier.\r\n",
    "            output = self.activation(net_input)\r\n",
    "            errors = (y - output)\r\n",
    "            self.w_[1:] += self.eta * X.T.dot(errors)\r\n",
    "            self.w_[0] += self.eta * errors.sum()\r\n",
    "            cost = (errors**2).sum() / 2.0\r\n",
    "            self.cost_.append(cost)\r\n",
    "        return self\r\n",
    "\r\n",
    "    def net_input(self, X):\r\n",
    "        \"\"\"Calculate net input\"\"\"\r\n",
    "        return np.dot(X, self.w_[1:]) + self.w_[0]\r\n",
    "\r\n",
    "    def activation(self, X):\r\n",
    "        \"\"\"Compute linear activation\"\"\"\r\n",
    "        return X\r\n",
    "\r\n",
    "    def predict(self, X):\r\n",
    "        \"\"\"Return class label after unit step\"\"\"\r\n",
    "        return np.where(self.activation(self.net_input(X)) >= 0.0, 1, -1)"
   ],
   "outputs": [],
   "metadata": {}
  },
  {
   "cell_type": "markdown",
   "source": [
    "This is the categorization part."
   ],
   "metadata": {}
  },
  {
   "cell_type": "code",
   "execution_count": 16,
   "source": [
    "from matplotlib.colors import ListedColormap\r\n",
    "def plot_decision_regions(X, y, classifier, resolution=0.02):\r\n",
    "    # setup marker generator and color map\r\n",
    "    markers = ('s', 'x', 'o', '^', 'v')\r\n",
    "    colors = ('red', 'blue', 'lightgreen', 'gray', 'cyan')\r\n",
    "    cmap = ListedColormap(colors[:len(np.unique(y))])\r\n",
    "\r\n",
    "    # plot the decision surface\r\n",
    "    x1_min, x1_max = X[:, 0].min() - 1, X[:, 0].max() + 1\r\n",
    "    x2_min, x2_max = X[:, 1].min() - 1, X[:, 1].max() + 1\r\n",
    "    xx1, xx2 = np.meshgrid(np.arange(x1_min, x1_max, resolution),\r\n",
    "      np.arange(x2_min, x2_max, resolution))\r\n",
    "    Z = classifier.predict(np.array([xx1.ravel(), xx2.ravel()]).T)\r\n",
    "    Z = Z.reshape(xx1.shape)\r\n",
    "    plt.contourf(xx1, xx2, Z, alpha=0.3, cmap=cmap)\r\n",
    "    plt.xlim(xx1.min(), xx1.max())\r\n",
    "    plt.ylim(xx2.min(), xx2.max())\r\n",
    "\r\n",
    "    # plot class samples\r\n",
    "    for idx, cl in enumerate(np.unique(y)):\r\n",
    "      plt.scatter(x=X[y == cl, 0], \r\n",
    "        y=X[y == cl, 1],\r\n",
    "        alpha=0.8, \r\n",
    "        c=colors[idx],\r\n",
    "        marker=markers[idx], \r\n",
    "        label=cl, \r\n",
    "        edgecolor='black')\r\n",
    "\r\n",
    "X_std = np.copy(X)\r\n",
    "X_std[:,0] = (X[:,0] - X[:,0].mean()) / X[:,0].std()\r\n",
    "X_std[:,1] = (X[:,1] - X[:,1].mean()) / X[:,1].std()\r\n",
    "\r\n",
    "ada = AdalineGD(n_iter=15)\r\n",
    "ada.fit(X_std, y)\r\n",
    "\r\n",
    "plot_decision_regions(X_std, y, classifier=ada)\r\n",
    "plt.title('Adaline - Gradient Descent')\r\n",
    "plt.xlabel('sepal length [standardized]')\r\n",
    "plt.ylabel('petal length [standardized]')\r\n",
    "plt.legend(loc=\"upper left\")\r\n",
    "plt.tight_layout()\r\n",
    "plt.show()\r\n",
    "\r\n",
    "plt.plot(range(1, len(ada.cost_) + 1), ada.cost_, marker='o')\r\n",
    "plt.xlabel('Epochs')\r\n",
    "plt.ylabel('Sum-squared-error')\r\n",
    "\r\n",
    "plt.tight_layout()\r\n",
    "plt.show()"
   ],
   "outputs": [
    {
     "output_type": "display_data",
     "data": {
      "image/png": "[encoded data removed]",
      "text/plain": [
       "<Figure size 432x288 with 1 Axes>"
      ]
     },
     "metadata": {
      "needs_background": "light"
     }
    },
    {
     "output_type": "display_data",
     "data": {
      "image/png": "[encoded data removed]",
      "text/plain": [
       "<Figure size 432x288 with 1 Axes>"
      ]
     },
     "metadata": {
      "needs_background": "light"
     }
    }
   ],
   "metadata": {}
  }
 ],
 "metadata": {
  "orig_nbformat": 4,
  "language_info": {
   "name": "python",
   "version": "3.8.8",
   "mimetype": "text/x-python",
   "codemirror_mode": {
    "name": "ipython",
    "version": 3
   },
   "pygments_lexer": "ipython3",
   "nbconvert_exporter": "python",
   "file_extension": ".py"
  },
  "kernelspec": {
   "name": "python3",
   "display_name": "Python 3.8.8 64-bit ('base': conda)"
  },
  "interpreter": {
   "hash": "ab199526fcd9d8d870a92020da6dad368111517ec7c41313c344a4a7fec6e9b7"
  }
 },
 "nbformat": 4,
 "nbformat_minor": 2
}