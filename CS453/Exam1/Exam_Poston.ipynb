{
 "cells": [
  {
   "cell_type": "code",
   "execution_count": 119,
   "source": [
    "#Imports\r\n",
    "import numpy as np\r\n",
    "import pandas as pd\r\n",
    "import matplotlib.pyplot as plt\r\n",
    "from sklearn.linear_model import LogisticRegression\r\n",
    "from sklearn.model_selection import train_test_split\r\n",
    "from sklearn.metrics import confusion_matrix\r\n",
    "from sklearn.preprocessing import StandardScaler\r\n",
    "from sklearn.metrics import accuracy_score\r\n"
   ],
   "outputs": [],
   "metadata": {}
  },
  {
   "cell_type": "code",
   "execution_count": 120,
   "source": [
    "# Initialize Dataframe\r\n",
    "df = pd.read_csv('./diabetes.csv', header=None)\r\n",
    "columns = ['Times Pregnant', 'Plasma Glucose Concentration', 'Diastolic BP', 'Triceps Skinfold Thiccness', '2-Hour Serum Insulin', 'BMI', 'Diabetes Pedigree', 'Age', 'Class']\r\n",
    "df.columns = columns\r\n",
    "df.head()"
   ],
   "outputs": [
    {
     "output_type": "execute_result",
     "data": {
      "text/html": [
       "<div>\n",
       "<style scoped>\n",
       "    .dataframe tbody tr th:only-of-type {\n",
       "        vertical-align: middle;\n",
       "    }\n",
       "\n",
       "    .dataframe tbody tr th {\n",
       "        vertical-align: top;\n",
       "    }\n",
       "\n",
       "    .dataframe thead th {\n",
       "        text-align: right;\n",
       "    }\n",
       "</style>\n",
       "<table border=\"1\" class=\"dataframe\">\n",
       "  <thead>\n",
       "    <tr style=\"text-align: right;\">\n",
       "      <th></th>\n",
       "      <th>Times Pregnant</th>\n",
       "      <th>Plasma Glucose Concentration</th>\n",
       "      <th>Diastolic BP</th>\n",
       "      <th>Triceps Skinfold Thiccness</th>\n",
       "      <th>2-Hour Serum Insulin</th>\n",
       "      <th>BMI</th>\n",
       "      <th>Diabetes Pedigree</th>\n",
       "      <th>Age</th>\n",
       "      <th>Class</th>\n",
       "    </tr>\n",
       "  </thead>\n",
       "  <tbody>\n",
       "    <tr>\n",
       "      <th>0</th>\n",
       "      <td>6</td>\n",
       "      <td>148</td>\n",
       "      <td>72</td>\n",
       "      <td>35</td>\n",
       "      <td>0</td>\n",
       "      <td>33.6</td>\n",
       "      <td>0.627</td>\n",
       "      <td>50</td>\n",
       "      <td>1</td>\n",
       "    </tr>\n",
       "    <tr>\n",
       "      <th>1</th>\n",
       "      <td>1</td>\n",
       "      <td>85</td>\n",
       "      <td>66</td>\n",
       "      <td>29</td>\n",
       "      <td>0</td>\n",
       "      <td>26.6</td>\n",
       "      <td>0.351</td>\n",
       "      <td>31</td>\n",
       "      <td>0</td>\n",
       "    </tr>\n",
       "    <tr>\n",
       "      <th>2</th>\n",
       "      <td>8</td>\n",
       "      <td>183</td>\n",
       "      <td>64</td>\n",
       "      <td>0</td>\n",
       "      <td>0</td>\n",
       "      <td>23.3</td>\n",
       "      <td>0.672</td>\n",
       "      <td>32</td>\n",
       "      <td>1</td>\n",
       "    </tr>\n",
       "    <tr>\n",
       "      <th>3</th>\n",
       "      <td>1</td>\n",
       "      <td>89</td>\n",
       "      <td>66</td>\n",
       "      <td>23</td>\n",
       "      <td>94</td>\n",
       "      <td>28.1</td>\n",
       "      <td>0.167</td>\n",
       "      <td>21</td>\n",
       "      <td>0</td>\n",
       "    </tr>\n",
       "    <tr>\n",
       "      <th>4</th>\n",
       "      <td>0</td>\n",
       "      <td>137</td>\n",
       "      <td>40</td>\n",
       "      <td>35</td>\n",
       "      <td>168</td>\n",
       "      <td>43.1</td>\n",
       "      <td>2.288</td>\n",
       "      <td>33</td>\n",
       "      <td>1</td>\n",
       "    </tr>\n",
       "  </tbody>\n",
       "</table>\n",
       "</div>"
      ],
      "text/plain": [
       "   Times Pregnant  Plasma Glucose Concentration  Diastolic BP  \\\n",
       "0               6                           148            72   \n",
       "1               1                            85            66   \n",
       "2               8                           183            64   \n",
       "3               1                            89            66   \n",
       "4               0                           137            40   \n",
       "\n",
       "   Triceps Skinfold Thiccness  2-Hour Serum Insulin   BMI  Diabetes Pedigree  \\\n",
       "0                          35                     0  33.6              0.627   \n",
       "1                          29                     0  26.6              0.351   \n",
       "2                           0                     0  23.3              0.672   \n",
       "3                          23                    94  28.1              0.167   \n",
       "4                          35                   168  43.1              2.288   \n",
       "\n",
       "   Age  Class  \n",
       "0   50      1  \n",
       "1   31      0  \n",
       "2   32      1  \n",
       "3   21      0  \n",
       "4   33      1  "
      ]
     },
     "metadata": {},
     "execution_count": 120
    }
   ],
   "metadata": {}
  },
  {
   "cell_type": "code",
   "execution_count": 129,
   "source": [
    "X = df[['Diabetes Pedigree']]\r\n",
    "y = df['Class']\r\n",
    "\r\n",
    "plt.scatter(X, y, c = 'black')\r\n",
    "plt.xlabel('Diabetes Pedigree')\r\n",
    "plt.ylabel('Class')\r\n",
    "\r\n"
   ],
   "outputs": [
    {
     "output_type": "execute_result",
     "data": {
      "text/plain": [
       "Text(0, 0.5, 'Class')"
      ]
     },
     "metadata": {},
     "execution_count": 129
    },
    {
     "output_type": "display_data",
     "data": {
      "image/png": "[encoded data removed]",
      "text/plain": [
       "<Figure size 432x288 with 1 Axes>"
      ]
     },
     "metadata": {
      "needs_background": "light"
     }
    }
   ],
   "metadata": {}
  },
  {
   "cell_type": "code",
   "execution_count": 122,
   "source": [
    "# Split Data then Create and Fit Regressors\r\n",
    "X_train, X_test, y_train, y_test = train_test_split(X, y, test_size=(1/5))\r\n",
    "\r\n",
    "regressor1 = LogisticRegression(C=1.0)\r\n",
    "regressor2 = LogisticRegression(C=3.0)\r\n",
    "regressor3 = LogisticRegression(C=5.0)\r\n",
    "regressor4 = LogisticRegression(C=7.0)\r\n",
    "regressor5 = LogisticRegression(C=13.0)\r\n",
    "\r\n",
    "regressors = [regressor1, regressor2, regressor3, regressor4, regressor5]\r\n",
    "\r\n",
    "for reg in regressors:\r\n",
    "  reg.fit(X_train, y_train)"
   ],
   "outputs": [],
   "metadata": {}
  },
  {
   "cell_type": "code",
   "execution_count": 130,
   "source": [
    "# View Predictions\r\n",
    "plt.scatter(X_train, y_train, color = 'red')\r\n",
    "plt.plot(X_train, regressor1.predict(X_train), color='blue')\r\n",
    "plt.xlabel('Diabetes Pedigree')\r\n",
    "plt.ylabel('Class')\r\n"
   ],
   "outputs": [
    {
     "output_type": "execute_result",
     "data": {
      "text/plain": [
       "Text(0, 0.5, 'Class')"
      ]
     },
     "metadata": {},
     "execution_count": 130
    },
    {
     "output_type": "display_data",
     "data": {
      "image/png": "[encoded data removed]",
      "text/plain": [
       "<Figure size 432x288 with 1 Axes>"
      ]
     },
     "metadata": {
      "needs_background": "light"
     }
    }
   ],
   "metadata": {}
  },
  {
   "cell_type": "code",
   "execution_count": 125,
   "source": [
    "#Calculate Best Accuracy \r\n",
    "sc = StandardScaler()\r\n",
    "sc.fit(X_train)\r\n",
    "X_train_std = sc.transform(X_train)\r\n",
    "X_test_std = sc.transform(X_test)\r\n",
    "\r\n",
    "y_pred1 = regressor1.predict(X_test_std)\r\n",
    "y_pred2 = regressor2.predict(X_test_std)\r\n",
    "y_pred3 = regressor3.predict(X_test_std)\r\n",
    "y_pred4 = regressor4.predict(X_test_std)\r\n",
    "y_pred5 = regressor5.predict(X_test_std)\r\n",
    "\r\n",
    "y_preds = [y_pred1, y_pred2, y_pred3, y_pred4, y_pred5]\r\n",
    "max_pred = accuracy_score(y_test, y_preds[0])\r\n",
    "max_pred_ind = 0\r\n",
    "\r\n",
    "for i in range(len(y_preds)):\r\n",
    "  print(f'Accuracy: {accuracy_score(y_test, y_preds[i])}')\r\n",
    "  pred = accuracy_score(y_test, y_preds[i])\r\n",
    "  if pred > max_pred:\r\n",
    "    max_pred = pred\r\n",
    "    max_pred_ind = i\r\n",
    "print(f'Max y_pred accuracy: {accuracy_score(y_test, y_preds[max_pred_ind])}')\r\n",
    "print(f'Best accuracy regressor index: {max_pred_ind}')\r\n"
   ],
   "outputs": [
    {
     "output_type": "stream",
     "name": "stdout",
     "text": [
      "Accuracy: 0.6753246753246753\n",
      "Accuracy: 0.6818181818181818\n",
      "Accuracy: 0.6818181818181818\n",
      "Accuracy: 0.6818181818181818\n",
      "Accuracy: 0.6818181818181818\n",
      "Max y_pred accuracy: 0.6818181818181818\n",
      "Best accuracy regressor index: 1\n"
     ]
    }
   ],
   "metadata": {}
  },
  {
   "cell_type": "code",
   "execution_count": 126,
   "source": [
    "#Confusion Matrix of Highest Accuracy Regressor y_pred\r\n",
    "confusion_matrix(y_test, y_preds[max_pred_ind])"
   ],
   "outputs": [
    {
     "output_type": "execute_result",
     "data": {
      "text/plain": [
       "array([[91, 11],\n",
       "       [38, 14]], dtype=int64)"
      ]
     },
     "metadata": {},
     "execution_count": 126
    }
   ],
   "metadata": {}
  },
  {
   "cell_type": "code",
   "execution_count": 131,
   "source": [
    "#Misclassified Samples of Highest Accuracy Regressor y_pred\r\n",
    "(y_test != y_preds[max_pred_ind]).sum()"
   ],
   "outputs": [
    {
     "output_type": "execute_result",
     "data": {
      "text/plain": [
       "49"
      ]
     },
     "metadata": {},
     "execution_count": 131
    }
   ],
   "metadata": {}
  },
  {
   "cell_type": "code",
   "execution_count": 132,
   "source": [
    "#Print Last 5 Predictions\r\n",
    "for i in range(5):\r\n",
    "  print(y_preds[max_pred_ind][-i])"
   ],
   "outputs": [
    {
     "output_type": "stream",
     "name": "stdout",
     "text": [
      "1\n",
      "1\n",
      "0\n",
      "0\n",
      "0\n"
     ]
    }
   ],
   "metadata": {}
  }
 ],
 "metadata": {
  "orig_nbformat": 4,
  "language_info": {
   "name": "python",
   "version": "3.8.8",
   "mimetype": "text/x-python",
   "codemirror_mode": {
    "name": "ipython",
    "version": 3
   },
   "pygments_lexer": "ipython3",
   "nbconvert_exporter": "python",
   "file_extension": ".py"
  },
  "kernelspec": {
   "name": "python3",
   "display_name": "Python 3.8.8 64-bit ('base': conda)"
  },
  "interpreter": {
   "hash": "ab199526fcd9d8d870a92020da6dad368111517ec7c41313c344a4a7fec6e9b7"
  }
 },
 "nbformat": 4,
 "nbformat_minor": 2
}