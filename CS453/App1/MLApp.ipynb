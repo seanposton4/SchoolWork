{
 "cells": [
  {
   "cell_type": "code",
   "execution_count": 3,
   "source": [
    "import numpy as np\r\n",
    "import pandas as pd\r\n",
    "import matplotlib.pyplot as plt"
   ],
   "outputs": [],
   "metadata": {}
  },
  {
   "cell_type": "code",
   "execution_count": 4,
   "source": [
    "# Import Pfizer Stock Data (Jan 2015 - Oct 2021)\r\n",
    "pfizer_df = pd.read_csv('./PFE.csv')\r\n",
    "pfizer_df.head()"
   ],
   "outputs": [
    {
     "output_type": "execute_result",
     "data": {
      "text/html": [
       "<div>\n",
       "<style scoped>\n",
       "    .dataframe tbody tr th:only-of-type {\n",
       "        vertical-align: middle;\n",
       "    }\n",
       "\n",
       "    .dataframe tbody tr th {\n",
       "        vertical-align: top;\n",
       "    }\n",
       "\n",
       "    .dataframe thead th {\n",
       "        text-align: right;\n",
       "    }\n",
       "</style>\n",
       "<table border=\"1\" class=\"dataframe\">\n",
       "  <thead>\n",
       "    <tr style=\"text-align: right;\">\n",
       "      <th></th>\n",
       "      <th>Date</th>\n",
       "      <th>Open</th>\n",
       "      <th>High</th>\n",
       "      <th>Low</th>\n",
       "      <th>Close</th>\n",
       "      <th>Adj Close</th>\n",
       "      <th>Volume</th>\n",
       "    </tr>\n",
       "  </thead>\n",
       "  <tbody>\n",
       "    <tr>\n",
       "      <th>0</th>\n",
       "      <td>2015-01-02</td>\n",
       "      <td>29.667933</td>\n",
       "      <td>30.151802</td>\n",
       "      <td>29.620493</td>\n",
       "      <td>29.724857</td>\n",
       "      <td>23.154593</td>\n",
       "      <td>16371571</td>\n",
       "    </tr>\n",
       "    <tr>\n",
       "      <th>1</th>\n",
       "      <td>2015-01-05</td>\n",
       "      <td>29.743834</td>\n",
       "      <td>29.800758</td>\n",
       "      <td>29.421251</td>\n",
       "      <td>29.563566</td>\n",
       "      <td>23.028952</td>\n",
       "      <td>24786391</td>\n",
       "    </tr>\n",
       "    <tr>\n",
       "      <th>2</th>\n",
       "      <td>2015-01-06</td>\n",
       "      <td>29.667933</td>\n",
       "      <td>30.227703</td>\n",
       "      <td>29.525618</td>\n",
       "      <td>29.810247</td>\n",
       "      <td>23.221104</td>\n",
       "      <td>29468681</td>\n",
       "    </tr>\n",
       "    <tr>\n",
       "      <th>3</th>\n",
       "      <td>2015-01-07</td>\n",
       "      <td>30.094877</td>\n",
       "      <td>30.237192</td>\n",
       "      <td>29.962049</td>\n",
       "      <td>30.218216</td>\n",
       "      <td>23.538898</td>\n",
       "      <td>20248816</td>\n",
       "    </tr>\n",
       "    <tr>\n",
       "      <th>4</th>\n",
       "      <td>2015-01-08</td>\n",
       "      <td>30.683111</td>\n",
       "      <td>30.967743</td>\n",
       "      <td>30.569260</td>\n",
       "      <td>30.834915</td>\n",
       "      <td>24.019285</td>\n",
       "      <td>49169522</td>\n",
       "    </tr>\n",
       "  </tbody>\n",
       "</table>\n",
       "</div>"
      ],
      "text/plain": [
       "         Date       Open       High        Low      Close  Adj Close    Volume\n",
       "0  2015-01-02  29.667933  30.151802  29.620493  29.724857  23.154593  16371571\n",
       "1  2015-01-05  29.743834  29.800758  29.421251  29.563566  23.028952  24786391\n",
       "2  2015-01-06  29.667933  30.227703  29.525618  29.810247  23.221104  29468681\n",
       "3  2015-01-07  30.094877  30.237192  29.962049  30.218216  23.538898  20248816\n",
       "4  2015-01-08  30.683111  30.967743  30.569260  30.834915  24.019285  49169522"
      ]
     },
     "metadata": {},
     "execution_count": 4
    }
   ],
   "metadata": {}
  },
  {
   "cell_type": "code",
   "execution_count": 5,
   "source": [
    "X = pfizer_df[['Open']]\r\n",
    "y = pfizer_df.High\r\n",
    "\r\n",
    "plt.scatter(X, y, c = 'black')\r\n",
    "plt.xlabel('Open')\r\n",
    "plt.ylabel('High')"
   ],
   "outputs": [
    {
     "output_type": "execute_result",
     "data": {
      "text/plain": [
       "Text(0, 0.5, 'High')"
      ]
     },
     "metadata": {},
     "execution_count": 5
    },
    {
     "output_type": "display_data",
     "data": {
      "image/png": "[encoded data removed]",
      "text/plain": [
       "<Figure size 432x288 with 1 Axes>"
      ]
     },
     "metadata": {
      "needs_background": "light"
     }
    }
   ],
   "metadata": {}
  },
  {
   "cell_type": "code",
   "execution_count": 6,
   "source": [
    "#Linear Regression\r\n",
    "from sklearn.linear_model import LinearRegression\r\n",
    "from sklearn.model_selection import train_test_split\r\n",
    "# data divided into training and testing\r\n",
    "X_train, X_test, y_train, y_test = train_test_split(X, y, test_size=1/3, random_state=0)\r\n",
    "\r\n",
    "#Linear Regression to Training Data\r\n",
    "regressor = LinearRegression()\r\n",
    "regressor.fit(X_train, y_train)\r\n",
    "\r\n",
    "# Visualize training set results\r\n",
    "# plot the actual data points of training set\r\n",
    "plt.scatter(X_train, y_train, color = 'red')\r\n",
    "# plot the regression line\r\n",
    "plt.plot(X_train, regressor.predict(X_train), color='blue')\r\n",
    "plt.title('Open vs High (Training set)')\r\n",
    "plt.xlabel('Open')\r\n",
    "plt.ylabel('High')\r\n",
    "plt.show()\r\n",
    "\r\n",
    "# Visualize test set results\r\n",
    "# plot the actual data points of test set\r\n",
    "plt.scatter(X_test, y_test, color = 'red')\r\n",
    "\r\n",
    "# plot the regression line (same as above)\r\n",
    "plt.plot(X_train, regressor.predict(X_train), color='blue')\r\n",
    "plt.title('Open vs High (Test set)')\r\n",
    "plt.xlabel('Open')\r\n",
    "plt.ylabel('High')\r\n",
    "plt.show()"
   ],
   "outputs": [
    {
     "output_type": "display_data",
     "data": {
      "image/png": "[encoded data removed]",
      "text/plain": [
       "<Figure size 432x288 with 1 Axes>"
      ]
     },
     "metadata": {
      "needs_background": "light"
     }
    },
    {
     "output_type": "display_data",
     "data": {
      "image/png": "[encoded data removed]",
      "text/plain": [
       "<Figure size 432x288 with 1 Axes>"
      ]
     },
     "metadata": {
      "needs_background": "light"
     }
    }
   ],
   "metadata": {}
  }
 ],
 "metadata": {
  "orig_nbformat": 4,
  "language_info": {
   "name": "python",
   "version": "3.8.8",
   "mimetype": "text/x-python",
   "codemirror_mode": {
    "name": "ipython",
    "version": 3
   },
   "pygments_lexer": "ipython3",
   "nbconvert_exporter": "python",
   "file_extension": ".py"
  },
  "kernelspec": {
   "name": "python3",
   "display_name": "Python 3.8.8 64-bit ('base': conda)"
  },
  "interpreter": {
   "hash": "ab199526fcd9d8d870a92020da6dad368111517ec7c41313c344a4a7fec6e9b7"
  }
 },
 "nbformat": 4,
 "nbformat_minor": 2
}