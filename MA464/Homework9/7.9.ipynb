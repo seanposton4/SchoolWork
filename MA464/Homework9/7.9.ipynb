{
 "cells": [
  {
   "cell_type": "code",
   "execution_count": 1,
   "metadata": {},
   "outputs": [],
   "source": [
    "def sam(x, n, m):\n",
    "  z = 1\n",
    "  while n > 0:\n",
    "    if n % 2 == 1:\n",
    "      z = x*z % m\n",
    "      n -= 1\n",
    "    else:\n",
    "      x = x**2 % m\n",
    "      n /= 2\n",
    "  return z"
   ]
  },
  {
   "cell_type": "code",
   "execution_count": 5,
   "metadata": {},
   "outputs": [
    {
     "data": {
      "text/plain": [
       "3554"
      ]
     },
     "execution_count": 5,
     "metadata": {},
     "output_type": "execute_result"
    }
   ],
   "source": [
    "(3871**7899) % 31847"
   ]
  },
  {
   "cell_type": "code",
   "execution_count": 3,
   "metadata": {},
   "outputs": [
    {
     "data": {
      "text/plain": [
       "313626294"
      ]
     },
     "execution_count": 3,
     "metadata": {},
     "output_type": "execute_result"
    }
   ],
   "source": [
    "((21766 * 14409)) % 31847"
   ]
  }
 ],
 "metadata": {
  "interpreter": {
   "hash": "ab199526fcd9d8d870a92020da6dad368111517ec7c41313c344a4a7fec6e9b7"
  },
  "kernelspec": {
   "display_name": "Python 3.8.8 64-bit ('base': conda)",
   "language": "python",
   "name": "python3"
  },
  "language_info": {
   "codemirror_mode": {
    "name": "ipython",
    "version": 3
   },
   "file_extension": ".py",
   "mimetype": "text/x-python",
   "name": "python",
   "nbconvert_exporter": "python",
   "pygments_lexer": "ipython3",
   "version": "3.8.8"
  },
  "orig_nbformat": 4
 },
 "nbformat": 4,
 "nbformat_minor": 2
}
