{
 "cells": [
  {
   "cell_type": "code",
   "execution_count": 11,
   "metadata": {},
   "outputs": [],
   "source": [
    "import math\n",
    "def nttbook(x):\n",
    "  t = ''\n",
    "  lst = x\n",
    "  bt = ''\n",
    "\n",
    "  n = x\n",
    "  while n > 0:\n",
    "    c = math.floor(n % 26)\n",
    "    bt += chr(c + 97)\n",
    "    n = (n - c)/26\n",
    "\n",
    "  t += bt\n",
    "  return t"
   ]
  },
  {
   "cell_type": "code",
   "execution_count": 6,
   "metadata": {},
   "outputs": [],
   "source": [
    "def sam(x, n, m):\n",
    "  z = 1\n",
    "  while n > 0:\n",
    "    if n % 2 == 1:\n",
    "      z = x*z % m\n",
    "      n -= 1\n",
    "    else:\n",
    "      x = x**2 % m\n",
    "      n /= 2\n",
    "  return z"
   ]
  },
  {
   "cell_type": "code",
   "execution_count": 30,
   "metadata": {},
   "outputs": [],
   "source": [
    "filein = open('./input.txt', 'r')\n",
    "x = []\n",
    "for row in filein:\n",
    "  arr = row.split(' ')\n",
    "  for y in arr:\n",
    "    x.append(int(y.strip()))"
   ]
  },
  {
   "cell_type": "code",
   "execution_count": 31,
   "metadata": {},
   "outputs": [
    {
     "name": "stdout",
     "output_type": "stream",
     "text": [
      "ibecameinvolvedinanargumentboutmodernpintingasubjectuponwhichiamspectaculrlyillinformedhowevermanyofmyfriendscanbecomehetedandevenviolentonthesubjectndienjoytheirwranglesinmodestwayiamanrtistmyselfndihavesomesympathywiththebstractionistslthoughihavegonebeyondtheminmyownapprochtoartimalumpisttwoorthreedecadesgoitwsquitefashionabletobeacubistandtodrweverythingincubesthentherewasarevoltbythevorticistswhodreweverythinginwhirlswenowhvethebstractionistswhopainteverythinginaveryabstrctedmnnerbutmyownsmllworksdoneonmytelephonepadarecomposedofcrefullyshadedstrangelyshapedlumpswithtracesofcubismvorticismandabstrctionisminthemforthosewhopossesstheseeingeyesalumpististandalone"
     ]
    }
   ],
   "source": [
    "for i in range(len(x)):\n",
    "  print(nttbook(sam(x[i], 5797, 18923))[::-1], end='')\n",
    "  #For some reason it prints backwards, so reverse it and I'll fix it later."
   ]
  }
 ],
 "metadata": {
  "interpreter": {
   "hash": "ab199526fcd9d8d870a92020da6dad368111517ec7c41313c344a4a7fec6e9b7"
  },
  "kernelspec": {
   "display_name": "Python 3.8.8 64-bit ('base': conda)",
   "name": "python3"
  },
  "language_info": {
   "codemirror_mode": {
    "name": "ipython",
    "version": 3
   },
   "file_extension": ".py",
   "mimetype": "text/x-python",
   "name": "python",
   "nbconvert_exporter": "python",
   "pygments_lexer": "ipython3",
   "version": "3.8.8"
  },
  "orig_nbformat": 4
 },
 "nbformat": 4,
 "nbformat_minor": 2
}
